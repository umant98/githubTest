{
  "nbformat": 4,
  "nbformat_minor": 0,
  "metadata": {
    "colab": {
      "name": "Python Program Level- 1.ipynb",
      "provenance": [],
      "collapsed_sections": [],
      "include_colab_link": true
    },
    "kernelspec": {
      "name": "python3",
      "display_name": "Python 3"
    }
  },
  "cells": [
    {
      "cell_type": "markdown",
      "metadata": {
        "id": "view-in-github",
        "colab_type": "text"
      },
      "source": [
        "<a href=\"https://colab.research.google.com/github/umant98/githubTest/blob/master/Python_Program_Level_1.ipynb\" target=\"_parent\"><img src=\"https://colab.research.google.com/assets/colab-badge.svg\" alt=\"Open In Colab\"/></a>"
      ]
    },
    {
      "cell_type": "markdown",
      "metadata": {
        "id": "bv2D5irvDACV"
      },
      "source": [
        "1.Write a program to check whether a year is leap year or not.\n",
        "\n",
        "Input: 2017\n",
        "\n",
        "Output: Not a Leap year\n",
        "\n",
        "\n"
      ]
    },
    {
      "cell_type": "code",
      "metadata": {
        "id": "YP05BSfBBVmO"
      },
      "source": [
        "\n",
        "\n",
        "#Solution\n",
        "input = ('enter the year')\n"
      ],
      "execution_count": null,
      "outputs": []
    },
    {
      "cell_type": "markdown",
      "metadata": {
        "id": "KUzE0E7IEBwm"
      },
      "source": [
        "2. Write a program to check whether an integer is a prime number or not.\n",
        "\n",
        "Input : 407\n",
        "\n",
        "Output : Not a prime number"
      ]
    },
    {
      "cell_type": "code",
      "metadata": {
        "id": "FbjcZ9Z5EDeN"
      },
      "source": [
        "\n",
        "#Solution\n"
      ],
      "execution_count": null,
      "outputs": []
    },
    {
      "cell_type": "markdown",
      "metadata": {
        "id": "jVbNAwuRnVRn"
      },
      "source": [
        "3. Write a program to print the Fibonacci sequence.\n",
        "\n",
        "Input: 7\n",
        "\n",
        "Output : 0 1 1 2 3 5 8"
      ]
    },
    {
      "cell_type": "code",
      "metadata": {
        "id": "aBW_QD2Wn3-h"
      },
      "source": [
        "#solution\n"
      ],
      "execution_count": null,
      "outputs": []
    },
    {
      "cell_type": "markdown",
      "metadata": {
        "id": "Jyk0favvn6er"
      },
      "source": [
        "4. Write a program to convert decimal to binary, octal and hexadecimal.\n",
        "\n",
        " Input :\n",
        "       decimal value = 344\n",
        "\n",
        " Output : \n",
        "         Binary = 101011000\n",
        "         \n",
        "         Octal = 530\n",
        "\n",
        "         Hexadecimal = 158"
      ]
    },
    {
      "cell_type": "code",
      "metadata": {
        "id": "v5R9nPfGpY9o"
      },
      "source": [
        "#solution\n",
        "\n"
      ],
      "execution_count": null,
      "outputs": []
    },
    {
      "cell_type": "code",
      "metadata": {
        "id": "5ybZWrB6oq93"
      },
      "source": [
        ""
      ],
      "execution_count": null,
      "outputs": []
    }
  ]
}